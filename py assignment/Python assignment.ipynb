{
 "cells": [
  {
   "cell_type": "code",
   "execution_count": 5,
   "id": "ecf7b4b5",
   "metadata": {},
   "outputs": [
    {
     "name": "stdout",
     "output_type": "stream",
     "text": [
      "Scraping Page: 1\n",
      "Scraping Page: 2\n",
      "Scraping Page: 3\n",
      "Scraping Page: 4\n",
      "Scraping Page: 5\n",
      "Scraping Page: 6\n",
      "Scraping Page: 7\n",
      "Scraping Page: 8\n",
      "Scraping Page: 9\n",
      "Scraping Page: 10\n",
      "Scraping Page: 11\n",
      "Scraping Page: 12\n",
      "Scraping Page: 13\n",
      "Scraping Page: 14\n",
      "Scraping Page: 15\n",
      "Scraping Page: 16\n",
      "Scraping Page: 17\n",
      "Scraping Page: 18\n",
      "Scraping Page: 19\n",
      "Scraping Page: 20\n"
     ]
    }
   ],
   "source": [
    "import requests\n",
    "import csv\n",
    "from bs4 import BeautifulSoup\n",
    "\n",
    "# Function to scrape product details\n",
    "def scrape_products(url):\n",
    "    response = requests.get(url)\n",
    "    soup = BeautifulSoup(response.content, 'html.parser')\n",
    "\n",
    "    products = soup.find_all('div', {'data-component-type': 's-search-result'})\n",
    "\n",
    "    for product in products:\n",
    "        # Product URL\n",
    "        product_url = product.find('a', {'class': 'a-link-normal s-no-outline'})['href']\n",
    "\n",
    "        # Product Name\n",
    "        product_name = product.find('span', {'class': 'a-size-medium a-color-base a-text-normal'}).text.strip()\n",
    "\n",
    "        # Product Price\n",
    "        product_price = product.find('span', {'class': 'a-offscreen'}).text.strip()\n",
    "\n",
    "        # Rating\n",
    "        rating = product.find('span', {'class': 'a-icon-alt'}).text.strip().split()[0]\n",
    "\n",
    "        # Number of reviews\n",
    "        reviews_count = product.find('span', {'class': 'a-size-base'}).text.strip()\n",
    "\n",
    "        # Write the scraped data to CSV file\n",
    "        writer.writerow([product_url, product_name, product_price, rating, reviews_count])\n",
    "\n",
    "# URL of the first page\n",
    "base_url = \"https://www.amazon.in/s?k=bags&crid=2M096C61O4MLT&qid=1653308124&sprefix=ba%2Caps%2C283&ref=sr_pg_\"\n",
    "\n",
    "# Create a CSV file and write headers\n",
    "csv_file = open('amazon.csv', 'w', newline='', encoding='utf-8')\n",
    "writer = csv.writer(csv_file)\n",
    "writer.writerow(['Product URL', 'Product Name', 'Product Price', 'Rating', 'Number of Reviews'])\n",
    "\n",
    "# Scrape 20 pages\n",
    "for page in range(1, 21):\n",
    "    url = base_url + str(page)\n",
    "    print(\"Scraping Page:\", page)\n",
    "    scrape_products(url)\n",
    "\n",
    "\n",
    "csv_file.close()\n",
    "\n"
   ]
  },
  {
   "cell_type": "code",
   "execution_count": null,
   "id": "56a6e656",
   "metadata": {},
   "outputs": [],
   "source": []
  },
  {
   "cell_type": "code",
   "execution_count": null,
   "id": "e16e8449",
   "metadata": {},
   "outputs": [],
   "source": []
  }
 ],
 "metadata": {
  "kernelspec": {
   "display_name": "Python 3 (ipykernel)",
   "language": "python",
   "name": "python3"
  },
  "language_info": {
   "codemirror_mode": {
    "name": "ipython",
    "version": 3
   },
   "file_extension": ".py",
   "mimetype": "text/x-python",
   "name": "python",
   "nbconvert_exporter": "python",
   "pygments_lexer": "ipython3",
   "version": "3.11.3"
  }
 },
 "nbformat": 4,
 "nbformat_minor": 5
}
